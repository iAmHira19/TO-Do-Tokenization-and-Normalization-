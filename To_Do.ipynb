{
  "nbformat": 4,
  "nbformat_minor": 0,
  "metadata": {
    "colab": {
      "provenance": [],
      "authorship_tag": "ABX9TyNWIs+Q6TlEMiuT1SZw8M9r",
      "include_colab_link": true
    },
    "kernelspec": {
      "name": "python3",
      "display_name": "Python 3"
    },
    "language_info": {
      "name": "python"
    }
  },
  "cells": [
    {
      "cell_type": "markdown",
      "metadata": {
        "id": "view-in-github",
        "colab_type": "text"
      },
      "source": [
        "<a href=\"https://colab.research.google.com/github/iAmHira19/TO-Do-Tokenization-and-Normalization-/blob/main/To_Do.ipynb\" target=\"_parent\"><img src=\"https://colab.research.google.com/assets/colab-badge.svg\" alt=\"Open In Colab\"/></a>"
      ]
    },
    {
      "cell_type": "code",
      "execution_count": 1,
      "metadata": {
        "colab": {
          "base_uri": "https://localhost:8080/"
        },
        "id": "IH5OFSEHcfHZ",
        "outputId": "9abd8aec-143d-41a9-8964-6a1d2a1752a8"
      },
      "outputs": [
        {
          "output_type": "stream",
          "name": "stdout",
          "text": [
            "10 files created in the 'generated_files' directory.\n"
          ]
        }
      ],
      "source": [
        "import os\n",
        "\n",
        "# Create a directory to store files\n",
        "directory = \"generated_files\"\n",
        "os.makedirs(directory, exist_ok=True)\n",
        "\n",
        "# Sentences to write in each file\n",
        "sentences = [\n",
        "    \"This is the first sentence. Here is the second sentence.\",\n",
        "    \"Python is a powerful programming language. It is widely used in data science.\",\n",
        "    \"Artificial Intelligence is the future. Machine learning is a subset of AI.\",\n",
        "    \"Data analysis is crucial. It helps in making better decisions.\",\n",
        "    \"Google Colab is great for experiments. It provides free computing resources.\",\n",
        "    \"Tokenization is important for NLP tasks. Normalization helps standardize data.\",\n",
        "    \"The sky is blue. The sun rises in the east.\",\n",
        "    \"I love programming. Coding challenges can be fun.\",\n",
        "    \"Reading books expands knowledge. Continuous learning is essential.\",\n",
        "    \"Exercise is good for health. A balanced diet is also important.\"\n",
        "]\n",
        "\n",
        "# Generate 10 files with two sentences each\n",
        "for i in range(1, 11):\n",
        "    filename = os.path.join(directory, f\"file_{i}.txt\")\n",
        "    with open(filename, \"w\") as f:\n",
        "        f.write(sentences[i-1])\n",
        "\n",
        "print(f\"10 files created in the '{directory}' directory.\")\n"
      ]
    },
    {
      "cell_type": "code",
      "source": [
        "import nltk\n",
        "from nltk.tokenize import word_tokenize\n",
        "from nltk.corpus import stopwords\n",
        "from nltk.stem import WordNetLemmatizer\n",
        "import string\n",
        "\n",
        "# Download necessary NLTK data\n",
        "nltk.download('punkt')\n",
        "nltk.download('stopwords')\n",
        "nltk.download('wordnet')\n",
        "\n",
        "# Initialize the lemmatizer\n",
        "lemmatizer = WordNetLemmatizer()\n",
        "\n",
        "# Function to tokenize and normalize text\n",
        "def process_text(text):\n",
        "    # Tokenize words\n",
        "    words = word_tokenize(text)\n",
        "\n",
        "    # Convert to lowercase\n",
        "    words = [word.lower() for word in words]\n",
        "\n",
        "    # Remove punctuation\n",
        "    words = [word for word in words if word not in string.punctuation]\n",
        "\n",
        "    # Remove stopwords\n",
        "    stop_words = set(stopwords.words('english'))\n",
        "    words = [word for word in words if word not in stop_words]\n",
        "\n",
        "    # Lemmatize words\n",
        "    words = [lemmatizer.lemmatize(word) for word in words]\n",
        "\n",
        "    return words\n",
        "\n",
        "# Process each file and print tokenized and normalized output\n",
        "for i in range(1, 11):\n",
        "    filename = os.path.join(directory, f\"file_{i}.txt\")\n",
        "    with open(filename, \"r\") as f:\n",
        "        content = f.read()\n",
        "        print(f\"\\nProcessing {filename}:\")\n",
        "        tokens = process_text(content)\n",
        "        print(f\"Tokens: {tokens}\")\n"
      ],
      "metadata": {
        "colab": {
          "base_uri": "https://localhost:8080/"
        },
        "id": "HBIVyMmBcrvr",
        "outputId": "e0f35f26-aa9a-44fa-c09c-6f8790edb398"
      },
      "execution_count": 2,
      "outputs": [
        {
          "output_type": "stream",
          "name": "stderr",
          "text": [
            "[nltk_data] Downloading package punkt to /root/nltk_data...\n",
            "[nltk_data]   Unzipping tokenizers/punkt.zip.\n",
            "[nltk_data] Downloading package stopwords to /root/nltk_data...\n",
            "[nltk_data]   Unzipping corpora/stopwords.zip.\n",
            "[nltk_data] Downloading package wordnet to /root/nltk_data...\n"
          ]
        },
        {
          "output_type": "stream",
          "name": "stdout",
          "text": [
            "\n",
            "Processing generated_files/file_1.txt:\n",
            "Tokens: ['first', 'sentence', 'second', 'sentence']\n",
            "\n",
            "Processing generated_files/file_2.txt:\n",
            "Tokens: ['python', 'powerful', 'programming', 'language', 'widely', 'used', 'data', 'science']\n",
            "\n",
            "Processing generated_files/file_3.txt:\n",
            "Tokens: ['artificial', 'intelligence', 'future', 'machine', 'learning', 'subset', 'ai']\n",
            "\n",
            "Processing generated_files/file_4.txt:\n",
            "Tokens: ['data', 'analysis', 'crucial', 'help', 'making', 'better', 'decision']\n",
            "\n",
            "Processing generated_files/file_5.txt:\n",
            "Tokens: ['google', 'colab', 'great', 'experiment', 'provides', 'free', 'computing', 'resource']\n",
            "\n",
            "Processing generated_files/file_6.txt:\n",
            "Tokens: ['tokenization', 'important', 'nlp', 'task', 'normalization', 'help', 'standardize', 'data']\n",
            "\n",
            "Processing generated_files/file_7.txt:\n",
            "Tokens: ['sky', 'blue', 'sun', 'rise', 'east']\n",
            "\n",
            "Processing generated_files/file_8.txt:\n",
            "Tokens: ['love', 'programming', 'coding', 'challenge', 'fun']\n",
            "\n",
            "Processing generated_files/file_9.txt:\n",
            "Tokens: ['reading', 'book', 'expands', 'knowledge', 'continuous', 'learning', 'essential']\n",
            "\n",
            "Processing generated_files/file_10.txt:\n",
            "Tokens: ['exercise', 'good', 'health', 'balanced', 'diet', 'also', 'important']\n"
          ]
        }
      ]
    }
  ]
}